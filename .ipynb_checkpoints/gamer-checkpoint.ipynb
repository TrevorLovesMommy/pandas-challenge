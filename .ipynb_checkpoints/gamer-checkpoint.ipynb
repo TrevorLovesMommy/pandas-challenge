{
 "cells": [
  {
   "cell_type": "code",
   "execution_count": 102,
   "metadata": {},
   "outputs": [],
   "source": [
    "import pandas as pd"
   ]
  },
  {
   "cell_type": "code",
   "execution_count": 103,
   "metadata": {
    "scrolled": true
   },
   "outputs": [
    {
     "data": {
      "text/html": [
       "<div>\n",
       "<style scoped>\n",
       "    .dataframe tbody tr th:only-of-type {\n",
       "        vertical-align: middle;\n",
       "    }\n",
       "\n",
       "    .dataframe tbody tr th {\n",
       "        vertical-align: top;\n",
       "    }\n",
       "\n",
       "    .dataframe thead th {\n",
       "        text-align: right;\n",
       "    }\n",
       "</style>\n",
       "<table border=\"1\" class=\"dataframe\">\n",
       "  <thead>\n",
       "    <tr style=\"text-align: right;\">\n",
       "      <th></th>\n",
       "      <th>Purchase ID</th>\n",
       "      <th>SN</th>\n",
       "      <th>Age</th>\n",
       "      <th>Gender</th>\n",
       "      <th>Item ID</th>\n",
       "      <th>Item Name</th>\n",
       "      <th>Price</th>\n",
       "    </tr>\n",
       "  </thead>\n",
       "  <tbody>\n",
       "    <tr>\n",
       "      <td>0</td>\n",
       "      <td>0</td>\n",
       "      <td>Lisim78</td>\n",
       "      <td>20</td>\n",
       "      <td>Male</td>\n",
       "      <td>108</td>\n",
       "      <td>Extraction, Quickblade Of Trembling Hands</td>\n",
       "      <td>3.53</td>\n",
       "    </tr>\n",
       "    <tr>\n",
       "      <td>1</td>\n",
       "      <td>1</td>\n",
       "      <td>Lisovynya38</td>\n",
       "      <td>40</td>\n",
       "      <td>Male</td>\n",
       "      <td>143</td>\n",
       "      <td>Frenzied Scimitar</td>\n",
       "      <td>1.56</td>\n",
       "    </tr>\n",
       "    <tr>\n",
       "      <td>2</td>\n",
       "      <td>2</td>\n",
       "      <td>Ithergue48</td>\n",
       "      <td>24</td>\n",
       "      <td>Male</td>\n",
       "      <td>92</td>\n",
       "      <td>Final Critic</td>\n",
       "      <td>4.88</td>\n",
       "    </tr>\n",
       "    <tr>\n",
       "      <td>3</td>\n",
       "      <td>3</td>\n",
       "      <td>Chamassasya86</td>\n",
       "      <td>24</td>\n",
       "      <td>Male</td>\n",
       "      <td>100</td>\n",
       "      <td>Blindscythe</td>\n",
       "      <td>3.27</td>\n",
       "    </tr>\n",
       "    <tr>\n",
       "      <td>4</td>\n",
       "      <td>4</td>\n",
       "      <td>Iskosia90</td>\n",
       "      <td>23</td>\n",
       "      <td>Male</td>\n",
       "      <td>131</td>\n",
       "      <td>Fury</td>\n",
       "      <td>1.44</td>\n",
       "    </tr>\n",
       "  </tbody>\n",
       "</table>\n",
       "</div>"
      ],
      "text/plain": [
       "   Purchase ID             SN  Age Gender  Item ID  \\\n",
       "0            0        Lisim78   20   Male      108   \n",
       "1            1    Lisovynya38   40   Male      143   \n",
       "2            2     Ithergue48   24   Male       92   \n",
       "3            3  Chamassasya86   24   Male      100   \n",
       "4            4      Iskosia90   23   Male      131   \n",
       "\n",
       "                                   Item Name  Price  \n",
       "0  Extraction, Quickblade Of Trembling Hands   3.53  \n",
       "1                          Frenzied Scimitar   1.56  \n",
       "2                               Final Critic   4.88  \n",
       "3                                Blindscythe   3.27  \n",
       "4                                       Fury   1.44  "
      ]
     },
     "execution_count": 103,
     "metadata": {},
     "output_type": "execute_result"
    }
   ],
   "source": [
    "file = \"02-Homework_04-Pandas_Instructions_HeroesOfPymoli_Resources_purchase_data.csv\"\n",
    "df = pd.read_csv(file)\n",
    "df.columns\n",
    "df.head()"
   ]
  },
  {
   "cell_type": "markdown",
   "metadata": {},
   "source": [
    "Player Count\n",
    "    - Display the total number of players"
   ]
  },
  {
   "cell_type": "code",
   "execution_count": 104,
   "metadata": {},
   "outputs": [
    {
     "data": {
      "text/html": [
       "<div>\n",
       "<style scoped>\n",
       "    .dataframe tbody tr th:only-of-type {\n",
       "        vertical-align: middle;\n",
       "    }\n",
       "\n",
       "    .dataframe tbody tr th {\n",
       "        vertical-align: top;\n",
       "    }\n",
       "\n",
       "    .dataframe thead th {\n",
       "        text-align: right;\n",
       "    }\n",
       "</style>\n",
       "<table border=\"1\" class=\"dataframe\">\n",
       "  <thead>\n",
       "    <tr style=\"text-align: right;\">\n",
       "      <th></th>\n",
       "      <th>Total</th>\n",
       "    </tr>\n",
       "  </thead>\n",
       "  <tbody>\n",
       "    <tr>\n",
       "      <td>0</td>\n",
       "      <td>576</td>\n",
       "    </tr>\n",
       "  </tbody>\n",
       "</table>\n",
       "</div>"
      ],
      "text/plain": [
       "   Total\n",
       "0    576"
      ]
     },
     "execution_count": 104,
     "metadata": {},
     "output_type": "execute_result"
    }
   ],
   "source": [
    "#sum number of players\n",
    "num_players = len(df[\"SN\"].unique())\n",
    "\n",
    "#create dataframe with a dictionary\n",
    "summary_table = pd.DataFrame({\"Total\":num_players}, index = [0])\n",
    "summary_table\n",
    "\n",
    "#alt code - create empty data frame and add data into first row\n",
    "#create empty dataframe with column header\n",
    "#player_count_df = pd.DataFrame(columns=[\"Total Players\"])\n",
    "#player_count_df.loc[0]= [num_players]"
   ]
  },
  {
   "cell_type": "markdown",
   "metadata": {},
   "source": [
    "Purchasing Analysis (Total)\n",
    "    - Run basic calculations to obtain number of unique items, average price, etc.\n",
    "    - Create a summary data frame to hold the results\n",
    "    - Optional: give the displayed data cleaner formatting\n",
    "    - Display the summary data frame"
   ]
  },
  {
   "cell_type": "code",
   "execution_count": 105,
   "metadata": {},
   "outputs": [
    {
     "data": {
      "text/html": [
       "<div>\n",
       "<style scoped>\n",
       "    .dataframe tbody tr th:only-of-type {\n",
       "        vertical-align: middle;\n",
       "    }\n",
       "\n",
       "    .dataframe tbody tr th {\n",
       "        vertical-align: top;\n",
       "    }\n",
       "\n",
       "    .dataframe thead th {\n",
       "        text-align: right;\n",
       "    }\n",
       "</style>\n",
       "<table border=\"1\" class=\"dataframe\">\n",
       "  <thead>\n",
       "    <tr style=\"text-align: right;\">\n",
       "      <th></th>\n",
       "      <th>Number of Unique Items</th>\n",
       "      <th>Average Price</th>\n",
       "      <th>Number of Purchases</th>\n",
       "      <th>Total Revenue</th>\n",
       "    </tr>\n",
       "  </thead>\n",
       "  <tbody>\n",
       "    <tr>\n",
       "      <td>0</td>\n",
       "      <td>183.0</td>\n",
       "      <td>3.050987</td>\n",
       "      <td>780.0</td>\n",
       "      <td>2379.77</td>\n",
       "    </tr>\n",
       "  </tbody>\n",
       "</table>\n",
       "</div>"
      ],
      "text/plain": [
       "   Number of Unique Items  Average Price  Number of Purchases  Total Revenue\n",
       "0                   183.0       3.050987                780.0        2379.77"
      ]
     },
     "execution_count": 105,
     "metadata": {},
     "output_type": "execute_result"
    }
   ],
   "source": [
    "#Number of Unique Items\n",
    "num_unique_items = len(df[\"Item ID\"].unique())\n",
    "\n",
    "#Average purchase price\n",
    "avg_purchase_price = df[\"Price\"].mean()\n",
    "\n",
    "#Total number of purchases\n",
    "num_purchases = df[\"Purchase ID\"].count()\n",
    "\n",
    "#Total revenue\n",
    "revenue = df[\"Price\"].sum()\n",
    "\n",
    "#create empty dataframe with column header\n",
    "header = [\"Number of Unique Items\", \"Average Price\", \"Number of Purchases\", \"Total Revenue\"]\n",
    "purchasing_df = pd.DataFrame(columns=header)\n",
    "\n",
    "#populate dataframe\n",
    "purchasing_df.loc[0] = [num_unique_items, avg_purchase_price, num_purchases, revenue]\n",
    "purchasing_df\n"
   ]
  },
  {
   "cell_type": "markdown",
   "metadata": {},
   "source": [
    "Gender Demographics"
   ]
  },
  {
   "cell_type": "code",
   "execution_count": 106,
   "metadata": {
    "scrolled": true
   },
   "outputs": [
    {
     "data": {
      "text/html": [
       "<div>\n",
       "<style scoped>\n",
       "    .dataframe tbody tr th:only-of-type {\n",
       "        vertical-align: middle;\n",
       "    }\n",
       "\n",
       "    .dataframe tbody tr th {\n",
       "        vertical-align: top;\n",
       "    }\n",
       "\n",
       "    .dataframe thead th {\n",
       "        text-align: right;\n",
       "    }\n",
       "</style>\n",
       "<table border=\"1\" class=\"dataframe\">\n",
       "  <thead>\n",
       "    <tr style=\"text-align: right;\">\n",
       "      <th></th>\n",
       "      <th>Total Count</th>\n",
       "      <th>Percentage of Players</th>\n",
       "    </tr>\n",
       "  </thead>\n",
       "  <tbody>\n",
       "    <tr>\n",
       "      <td>Male</td>\n",
       "      <td>652</td>\n",
       "      <td>0.835897</td>\n",
       "    </tr>\n",
       "    <tr>\n",
       "      <td>Female</td>\n",
       "      <td>113</td>\n",
       "      <td>0.144872</td>\n",
       "    </tr>\n",
       "    <tr>\n",
       "      <td>Other / Non-Disclosed</td>\n",
       "      <td>15</td>\n",
       "      <td>0.019231</td>\n",
       "    </tr>\n",
       "  </tbody>\n",
       "</table>\n",
       "</div>"
      ],
      "text/plain": [
       "                       Total Count  Percentage of Players\n",
       "Male                           652               0.835897\n",
       "Female                         113               0.144872\n",
       "Other / Non-Disclosed           15               0.019231"
      ]
     },
     "execution_count": 106,
     "metadata": {},
     "output_type": "execute_result"
    }
   ],
   "source": [
    "population = df[\"Gender\"].count()\n",
    "gender_types =  df[\"Gender\"].unique()\n",
    "\n",
    "#create dataframe of value counts\n",
    "gender_df = pd.DataFrame(df[\"Gender\"].value_counts())\n",
    "\n",
    "#rename first column\n",
    "gender_df.columns =[\"Total Count\"]\n",
    "\n",
    "#add column of percentage of players\n",
    "gender_df[\"Percentage of Players\"]=gender_df[\"Total Count\"]/population\n",
    "gender_df"
   ]
  },
  {
   "cell_type": "markdown",
   "metadata": {},
   "source": [
    " Purchasing Analysis\n",
    "     -Run basic calculations to obtain purchase count, avg. purchase price, avg. purchase total per person etc. by gender\n"
   ]
  },
  {
   "cell_type": "code",
   "execution_count": 117,
   "metadata": {},
   "outputs": [
    {
     "data": {
      "text/plain": [
       "(Gender\n",
       " Female                   113\n",
       " Male                     652\n",
       " Other / Non-Disclosed     15\n",
       " Name: Item ID, dtype: int64, Gender\n",
       " Female                   3.203009\n",
       " Male                     3.017853\n",
       " Other / Non-Disclosed    3.346000\n",
       " Name: Price, dtype: float64, Gender\n",
       " Female                    361.94\n",
       " Male                     1967.64\n",
       " Other / Non-Disclosed      50.19\n",
       " Name: Price, dtype: float64)"
      ]
     },
     "execution_count": 117,
     "metadata": {},
     "output_type": "execute_result"
    }
   ],
   "source": [
    "# Using GroupBy in order to separate the data into fields according to \"state\" values\n",
    "grouped_df = df.groupby([\"Gender\"])\n",
    "\n",
    "# The object returned is a \"GroupBy\" object and cannot be viewed normally...\n",
    "#print(df)\n",
    "\n",
    "# In order to be visualized, a data function must be used...\n",
    "grouped_df.count().head(10)\n",
    "\n",
    "#Purchase Count, returns series\n",
    "purchase_count = grouped_df[\"Item ID\"].count()\n",
    "purchase_count\n",
    "\n",
    "#Average purchase price\n",
    "average_purchase_price = grouped_df[\"Price\"].mean()\n",
    "average_purchase_price\n",
    "\n",
    "#Total purchase value\n",
    "total_purchase_price = grouped_df[\"Price\"].sum()\n",
    "\n",
    "#Average Total Purchase per person\n",
    "\n",
    "\n",
    "purchase_count, average_purchase_price, total_purchase_price"
   ]
  },
  {
   "cell_type": "code",
   "execution_count": null,
   "metadata": {},
   "outputs": [],
   "source": [
    "#create empty dataframe with column header\n",
    "purchasing_df = pd.DataFrame(columns=[(\"Number of Unique Items\", \"Average Price\", \"Number of Purchases\", \"Total Revenue\")]\n",
    "#purchasing_df\n",
    "                             \n",
    "    \n",
    "                             \n",
    "                             \n",
    "#purchasing_df = purchasing_df.append({\"Number of Unique Items\": num_unique_items,\n",
    "#                                        \"Average Price\": avg_purchase_price,\n",
    "#                                        \"Number of Purchases\":num_purchases,\n",
    "#                                        \"Total Revenue\":num_purchases}, ignore_index=True)                                         \n",
    "\n",
    "\n",
    "\n",
    "#purchasing_df = purchasing_df.append[num_unique_items, avg_purchase_price, num_purchases,revenue]\n",
    "\n",
    "\n",
    "#print(purchasing_df)\n",
    "                             purchasing_df.iloc[0]= [{\"Number of Unique Items\": num_unique_items,\n",
    "                                        \"Average Price\": avg_purchase_price,\n",
    "                                        \"Number of Purchases\":num_purchases,\n",
    "                                        \"Total Revenue\":num_purchases}]\n"
   ]
  }
 ],
 "metadata": {
  "kernelspec": {
   "display_name": "Python 3",
   "language": "python",
   "name": "python3"
  },
  "language_info": {
   "codemirror_mode": {
    "name": "ipython",
    "version": 3
   },
   "file_extension": ".py",
   "mimetype": "text/x-python",
   "name": "python",
   "nbconvert_exporter": "python",
   "pygments_lexer": "ipython3",
   "version": "3.7.4"
  }
 },
 "nbformat": 4,
 "nbformat_minor": 2
}
